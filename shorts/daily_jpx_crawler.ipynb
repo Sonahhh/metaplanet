{
 "cells": [
  {
   "cell_type": "code",
   "execution_count": 54,
   "id": "9489ff8e-bb53-40c0-b713-a3a0a92b4de8",
   "metadata": {},
   "outputs": [],
   "source": [
    "import os\n",
    "import requests\n",
    "import pprint\n",
    "import pandas as pd\n",
    "import shutil\n",
    "import zipfile\n",
    "\n",
    "from bs4 import BeautifulSoup\n",
    "from io import BytesIO"
   ]
  },
  {
   "cell_type": "code",
   "execution_count": 55,
   "id": "3dc2eba7-2ca0-4c33-b0c3-c6ef3402945c",
   "metadata": {},
   "outputs": [
    {
     "name": "stdout",
     "output_type": "stream",
     "text": [
      "Finished processing https://www.jpx.co.jp/english/markets/public/short-selling/index.html\n",
      "  date_of_calculation  code_of_stock    name_of_stock  \\\n",
      "0          2025-07-04           3350  Metaplanet Inc.   \n",
      "1          2025-07-07           3350  Metaplanet Inc.   \n",
      "\n",
      "              name_of_short_seller  \\\n",
      "0  Barclays Capital Securities Ltd   \n",
      "1             モルガン・スタンレーMUFG証券株式会社   \n",
      "\n",
      "                             address_of_short_seller  \\\n",
      "0  1 Churchill Place, London, E14 5HP, United Kin...   \n",
      "1               東京都千代田区大手町一丁目９番７号大手町フィナンシャルシティサウスタワー   \n",
      "\n",
      "   name_of_discretionary_investment_contractor  \\\n",
      "0                                          NaN   \n",
      "1                                          NaN   \n",
      "\n",
      "   address_of_discretionary_investment_contractor  name_of_investment_fund  \\\n",
      "0                                             NaN                      NaN   \n",
      "1                                             NaN                      NaN   \n",
      "\n",
      "   ratio_of_short_positions_to_shares_outstanding  \\\n",
      "0                                          0.0306   \n",
      "1                                          0.0148   \n",
      "\n",
      "   number_of_short_positions_in_shares  \\\n",
      "0                             20093988   \n",
      "1                              8934878   \n",
      "\n",
      "   number_of_short_positions_in_trading_units  \\\n",
      "0                                      200939   \n",
      "1                                       89348   \n",
      "\n",
      "  date_of_calculation_in_previous_reporting  \\\n",
      "0                                2025-06-26   \n",
      "1                                2025-07-04   \n",
      "\n",
      "   ratio_of_short_positions_in_previous_reporting  notes  \n",
      "0                                          0.0292    NaN  \n",
      "1                                          0.0159    NaN  \n"
     ]
    }
   ],
   "source": [
    "JPX_SHORT_SELLING_URL = \"https://www.jpx.co.jp/english/markets/public/short-selling/index.html\"\n",
    "\n",
    "# Spoof web crawler User Agent\n",
    "headers = {\n",
    "    'User-Agent': 'Mozilla/5.0 (Windows NT 10.0; Win64; x64) AppleWebKit/537.36 (KHTML, like Gecko) Chrome/58.0.3029.110 Safari/537.3'\n",
    "}\n",
    "\n",
    "\"\"\"\n",
    "1. Crawl JPX urls\n",
    "2. Find the short interest spread sheet\n",
    "3. Read xls file + Load raw data into DataFrame\n",
    "\"\"\"\n",
    "daily_df = None\n",
    "latest_file_name = None\n",
    "response = requests.get(JPX_SHORT_SELLING_URL, headers=headers)\n",
    "\n",
    "if response.status_code == 200:\n",
    "    soup = BeautifulSoup(response.content, 'html.parser')\n",
    "\n",
    "    xls_refs = soup.find_all('a', href=lambda href: href and 'Short_Positions.xls' in href)\n",
    "    xls_urls = [ref['href'] for ref in xls_refs]\n",
    "    latest_xls_url = xls_urls[0]\n",
    "    latest_file_name = latest_xls_url.split('/')[-1]\n",
    "\n",
    "    excel_url = f\"https://www.jpx.co.jp{latest_xls_url}\"\n",
    "    excel_response = requests.get(excel_url, headers=headers)\n",
    "    if excel_response.status_code == 200:\n",
    "        excel_data = BytesIO(excel_response.content)\n",
    "        daily_df = pd.read_excel(excel_data, engine='xlrd')\n",
    "\n",
    "print(f'Finished processing {url}')\n",
    "\n",
    "# Snake case mapping between JPX spreadsheet schema for easier queries\n",
    "schema = [\n",
    "    \"date_of_calculation\",\n",
    "    \"code_of_stock\",\n",
    "    \"name_of_stock\",\n",
    "    \"name_of_short_seller\",\n",
    "    \"address_of_short_seller\",\n",
    "    \"name_of_discretionary_investment_contractor\",\n",
    "    \"address_of_discretionary_investment_contractor\",\n",
    "    \"name_of_investment_fund\",\n",
    "    \"ratio_of_short_positions_to_shares_outstanding\",\n",
    "    \"number_of_short_positions_in_shares\",\n",
    "    \"number_of_short_positions_in_trading_units\",\n",
    "    \"date_of_calculation_in_previous_reporting\",\n",
    "    \"ratio_of_short_positions_in_previous_reporting\",\n",
    "    \"notes\"\n",
    "]\n",
    "\n",
    "cleaned_rows = []\n",
    "data_rows = daily_df.values.tolist()\n",
    "\n",
    "for row in data_rows:\n",
    "    cleaned_row = row[1:]\n",
    "    # Filter only for metaplanet stock\n",
    "    if cleaned_row[1] == 3350:\n",
    "        # Filter out Name of Stock (Japanese) name\n",
    "        cleaned_rows.append(cleaned_row[:2] + cleaned_row[3:])\n",
    "### Debugging purposes\n",
    "# print(schema)\n",
    "# print(cleaned_data)\n",
    "\n",
    "date_column = 'date_of_calculation'\n",
    "prev_date_column = 'date_of_calculation_in_previous_reporting'\n",
    "df = pd.DataFrame(cleaned_rows, columns=schema)\n",
    "df[date_column] = pd.to_datetime(df[date_column], errors='coerce').dt.strftime('%Y-%m-%d')\n",
    "df[prev_date_column] = pd.to_datetime(df[prev_date_column], errors='coerce').dt.strftime('%Y-%m-%d')\n",
    "print(df)"
   ]
  },
  {
   "cell_type": "code",
   "execution_count": 56,
   "id": "6c505e5f-767d-4a3d-80d3-058b9b19e591",
   "metadata": {},
   "outputs": [
    {
     "name": "stdout",
     "output_type": "stream",
     "text": [
      "Dataset URL: https://www.kaggle.com/datasets/lilfatdog/metaplanet-daily-short-positions\n",
      "License(s): CC0-1.0\n",
      "Downloading metaplanet-daily-short-positions.zip to /Users/eddyk/eddyk/metaplanet/shorts/dataset\n",
      "\n",
      "Found CSV: /Users/eddyk/eddyk/metaplanet/shorts/dataset/metaplanet_daily_short_positions.csv\n"
     ]
    },
    {
     "name": "stderr",
     "output_type": "stream",
     "text": [
      "100%|██████████| 12.5k/12.5k [00:00<00:00, 16.5MB/s]\n"
     ]
    }
   ],
   "source": [
    "# Download the dataset as a zip file\n",
    "os.makedirs(DIRECTORY, exist_ok=True)\n",
    "os.system(f'kaggle datasets download -d {KAGGLE_USERNAME}/{DATASET_NAME} -p {DIRECTORY} --unzip')\n",
    "\n",
    "# Find the CSV file\n",
    "csv_files = [f for f in os.listdir(DIRECTORY) if f.endswith('.csv')]\n",
    "csv_path = os.path.join(DIRECTORY, csv_files[0])\n",
    "print(f\"Found CSV: {csv_path}\")\n",
    "\n",
    "snapshot_df = pd.read_csv(csv_path)\n",
    "snapshot_df[date_column] = pd.to_datetime(snapshot_df[date_column], errors='coerce').dt.strftime('%Y-%m-%d')\n",
    "snapshot_df[prev_date_column] = pd.to_datetime(snapshot_df[prev_date_column], errors='coerce').dt.strftime('%Y-%m-%d')"
   ]
  },
  {
   "cell_type": "code",
   "execution_count": 57,
   "id": "6f92e43f-5db5-4b30-a575-de39eb1db855",
   "metadata": {},
   "outputs": [
    {
     "name": "stdout",
     "output_type": "stream",
     "text": [
      "Exception: '/Users/eddyk/eddyk/metaplanet/shorts/dataset/metaplanet_daily_short_positions.csv' and '/Users/eddyk/eddyk/metaplanet/shorts/dataset/metaplanet_daily_short_positions.csv' are the same file\n",
      "Starting upload for file metaplanet_daily_short_positions.csv\n"
     ]
    },
    {
     "name": "stderr",
     "output_type": "stream",
     "text": [
      "100%|██████████| 112k/112k [00:00<00:00, 158kB/s]\n"
     ]
    },
    {
     "name": "stdout",
     "output_type": "stream",
     "text": [
      "Upload successful: metaplanet_daily_short_positions.csv (112KB)\n",
      "Skipping folder: .ipynb_checkpoints; use '--dir-mode' to upload folders\n",
      "Dataset version is being created. Please check progress at https://www.kaggle.com/lilfatdog/metaplanet-daily-short-positions\n"
     ]
    },
    {
     "data": {
      "text/plain": [
       "0"
      ]
     },
     "execution_count": 57,
     "metadata": {},
     "output_type": "execute_result"
    }
   ],
   "source": [
    "merged_df = pd.concat([df, snapshot_df], ignore_index=True)\n",
    "merged_df = merged_df.sort_values(by=date_column, ascending=False)\n",
    "merged_df = merged_df.drop_duplicates()\n",
    "# print(merged_df)\n",
    "merged_df.to_csv(os.path.join(DIRECTORY, 'metaplanet_daily_short_positions.csv'), index=False)\n",
    "\n",
    "# Move the updated CSV for upload\n",
    "try:\n",
    "    shutil.copy(csv_path, DIRECTORY)\n",
    "except Exception as e:\n",
    "    print(f\"Exception: {e}\")\n",
    "\n",
    "# Use the Kaggle API to create a new version\n",
    "message = f\"Added new data for {latest_file_name}\"\n",
    "os.system(f'kaggle datasets version -p {DIRECTORY} -m \"{message}\"')"
   ]
  },
  {
   "cell_type": "code",
   "execution_count": null,
   "id": "f811df6e-2330-48ab-8e60-cd989b24eda2",
   "metadata": {},
   "outputs": [],
   "source": []
  }
 ],
 "metadata": {
  "kernelspec": {
   "display_name": "Python 3 (ipykernel)",
   "language": "python",
   "name": "python3"
  },
  "language_info": {
   "codemirror_mode": {
    "name": "ipython",
    "version": 3
   },
   "file_extension": ".py",
   "mimetype": "text/x-python",
   "name": "python",
   "nbconvert_exporter": "python",
   "pygments_lexer": "ipython3",
   "version": "3.13.5"
  }
 },
 "nbformat": 4,
 "nbformat_minor": 5
}
