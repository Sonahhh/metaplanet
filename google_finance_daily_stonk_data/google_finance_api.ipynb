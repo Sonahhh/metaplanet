{
 "cells": [
  {
   "cell_type": "code",
   "execution_count": null,
   "id": "5246154b-7ca5-4e97-ac25-37e4e5afc2a8",
   "metadata": {},
   "outputs": [],
   "source": [
    "import datetime\n",
    "import pandas as pd\n",
    "import os\n",
    "import shutil\n",
    "\n",
    "from enum import Enum\n",
    "from datetime import datetime\n",
    "from dateutil import parser\n",
    "from pprint import pprint"
   ]
  },
  {
   "cell_type": "code",
   "execution_count": 3,
   "id": "9b990bcb-424d-4886-9feb-7f442cae3a57",
   "metadata": {},
   "outputs": [],
   "source": [
    "# Documentation: serpapi.com/google-finance-api\n",
    "# Installation: pip install google-search-results\n",
    "from serpapi import GoogleSearch\n",
    "\n",
    "def query_serpapi(ticker: str):\n",
    "    params = {\n",
    "        \"api_key\": os.getenv(\"GOOGLE_SEARCH_API_KEY\"),\n",
    "        \"engine\": \"google_finance\",\n",
    "        \"hl\": \"en\",\n",
    "        \"q\": f\"{ticker}\",\n",
    "        \"window\": \"YTD\"\n",
    "    }\n",
    "    \n",
    "    search = GoogleSearch(params)\n",
    "    results = search.get_dict()\n",
    "    return results"
   ]
  },
  {
   "cell_type": "code",
   "execution_count": null,
   "id": "f0c127a0-ec99-4cf3-823b-1e9f52b9c162",
   "metadata": {},
   "outputs": [],
   "source": [
    "class Country(Enum):\n",
    "    GERMANY = 1\n",
    "    JAPAN = 2\n",
    "    UNITED_STATES = 3\n",
    "    \n",
    "METAPLANET_TICKERS = {\n",
    "    Country.JAPAN: \"3350:TYO\",\n",
    "    Country.GERMANY: \"DN3:FRA\",\n",
    "    Country.UNITED_STATES: \"MTPLF:OTCMKTS\"\n",
    "}\n",
    "\n",
    "responses = {}\n",
    "for country in Country:\n",
    "    print(METAPLANET_TICKERS[country])\n",
    "    responses[country] = query_serpapi(METAPLANET_TICKERS[country])"
   ]
  },
  {
   "cell_type": "code",
   "execution_count": null,
   "id": "41a8747f-fbe2-4bab-9d10-54515ad85d05",
   "metadata": {},
   "outputs": [],
   "source": [
    "rows = {}\n",
    "\n",
    "for country, response in responses.items():\n",
    "    rows[country] = {}\n",
    "\n",
    "    print(f\"Processing Google Finance API Results for {country.name}\")\n",
    "    \n",
    "    # DEBUGGING purposes\n",
    "    # pprint(response)\n",
    "    \n",
    "    for daily_summary in response['graph']:\n",
    "        ticker = METAPLANET_TICKERS[country].split(\":\")[0]\n",
    "        currency = daily_summary['currency'] if 'currency' in daily_summary else None\n",
    "        date = daily_summary['date'] if 'date' in daily_summary else None\n",
    "        price = daily_summary['price'] if 'price' in daily_summary else None\n",
    "        volume = daily_summary['volume'] if 'volume' in daily_summary else None\n",
    "\n",
    "        if (currency is None\n",
    "            or date is None\n",
    "            or price is None\n",
    "            or volume is None):\n",
    "            print(f\"ERROR processing row {daily_summary}. One of the [currency, date, price, volume] is missing.\")\n",
    "        \n",
    "        trading_day = parser.parse(date).strftime('%Y-%m-%d')\n",
    "\n",
    "        # rows.append([trading_day, ticker, price, currency, volume])\n",
    "        # If this date is not yet in rows, or this row has volume and the existing one doesn't\n",
    "        # Some of the rows returned by the API is scuffed.\n",
    "        row = [trading_day, ticker, price, currency, volume]\n",
    "        if (trading_day not in rows[country]) or (row[4] is not None and rows[country][trading_day][4] is None):\n",
    "            rows[country][trading_day] = row\n",
    "\n",
    "rows = [row for country_rows in rows.values() for row in country_rows.values()]\n",
    "pprint(rows)"
   ]
  },
  {
   "cell_type": "code",
   "execution_count": null,
   "id": "b64dedfe-a11c-4f1c-b672-90a465731b1b",
   "metadata": {},
   "outputs": [],
   "source": [
    "schema = [\n",
    "    \"day\",\n",
    "    \"ticker\",\n",
    "    \"price\",\n",
    "    \"currency\",\n",
    "    \"volume\"\n",
    "]\n",
    "\n",
    "pd.set_option('display.max_rows', None)\n",
    "df = pd.DataFrame(rows, columns=schema)\n",
    "\n",
    "# Trading order: JP -> DE -> US\n",
    "ticker_order = [\"3350\", \"DN3\", \"MTPLF\"]\n",
    "df['ticker'] = pd.Categorical(df['ticker'], categories=ticker_order, ordered=True)\n",
    "df = df.sort_values(by=['day', 'ticker'], ascending=[False, False])\n",
    "df"
   ]
  },
  {
   "cell_type": "code",
   "execution_count": null,
   "id": "ba6c70b9-da37-4fcf-aa31-565ee0bf04c3",
   "metadata": {},
   "outputs": [],
   "source": [
    "DIRECTORY = os.path.join(os.getcwd(), 'dataset')\n",
    "os.makedirs(DIRECTORY, exist_ok=True)\n",
    "df.to_csv(os.path.join(DIRECTORY, 'metaplanet_daily_price_and_volume.csv'), index=False)\n",
    "\n",
    "# Move the updated CSV for upload\n",
    "try:\n",
    "    shutil.copy(csv_path, DIRECTORY)\n",
    "except Exception as e:\n",
    "    print(f\"Exception: {e}\")\n",
    "\n",
    "# Update csv file using Kaggle API\n",
    "execution_date = datetime.now().strftime('%Y-%m-%d %H:%M:%S')\n",
    "message = f\"Added new daily price/vol data from Google Finance API {execution_date}\"\n",
    "\n",
    "os.system(f'kaggle datasets version -p {DIRECTORY} -m \"{message}\"')"
   ]
  }
 ],
 "metadata": {
  "kernelspec": {
   "display_name": "Python 3 (ipykernel)",
   "language": "python",
   "name": "python3"
  },
  "language_info": {
   "codemirror_mode": {
    "name": "ipython",
    "version": 3
   },
   "file_extension": ".py",
   "mimetype": "text/x-python",
   "name": "python",
   "nbconvert_exporter": "python",
   "pygments_lexer": "ipython3",
   "version": "3.13.5"
  }
 },
 "nbformat": 4,
 "nbformat_minor": 5
}
